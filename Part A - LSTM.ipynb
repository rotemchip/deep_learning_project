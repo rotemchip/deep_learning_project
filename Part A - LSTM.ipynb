{
 "cells": [
  {
   "cell_type": "code",
   "execution_count": 124,
   "metadata": {},
   "outputs": [],
   "source": [
    "import torch\n",
    "import torch.nn as nn\n",
    "import torch.nn.functional as F\n",
    "import torch.optim as optim\n",
    "\n",
    "from sklearn.model_selection import train_test_split\n",
    "\n",
    "import pandas as pd\n",
    "import numpy as np\n",
    "\n",
    "import seaborn as sns\n",
    "import matplotlib.pyplot as plt\n",
    "%matplotlib inline\n",
    "\n",
    "from tqdm.notebook import tqdm\n",
    "\n",
    "import os\n",
    "from os import listdir\n",
    "from os.path import isfile, join\n",
    "\n",
    "from string import punctuation, ascii_lowercase"
   ]
  },
  {
   "cell_type": "code",
   "execution_count": 125,
   "metadata": {},
   "outputs": [],
   "source": [
    "torch.manual_seed(0)\n",
    "torch.backends.cudnn.deterministic = True\n",
    "torch.backends.cudnn.benchmark = False\n",
    "np.random.seed(0)"
   ]
  },
  {
   "cell_type": "markdown",
   "metadata": {},
   "source": [
    "## Initializing Parameters"
   ]
  },
  {
   "cell_type": "code",
   "execution_count": 126,
   "metadata": {},
   "outputs": [],
   "source": [
    "learning_rate = 0.005\n",
    "train_batch_size = 128\n",
    "test_batch_size = 256\n",
    "input_test_size = 0.25\n",
    "num_of_epochs = 6\n",
    "embedding_dim = 32\n",
    "hidden_dim = 32"
   ]
  },
  {
   "cell_type": "markdown",
   "metadata": {},
   "source": [
    "## Reading Data files"
   ]
  },
  {
   "cell_type": "code",
   "execution_count": 127,
   "metadata": {},
   "outputs": [],
   "source": [
    "#data_dir = \"D:/studies/semesterf/NLP/train_data/\"\n",
    "data_dir = \"/Users/rotem/Downloads/train_data/\"\n",
    "positiveFiles = [data_dir+'train/pos/' + f for f in listdir(data_dir+'train/pos/') if isfile(join(data_dir+'train/pos/', f))]\n",
    "negativeFiles = [data_dir+'train/neg/' + f for f in listdir(data_dir+'train/neg/') if isfile(join(data_dir+'train/neg/', f))]\n",
    "unsupervisedFiles = [data_dir+'train/unsup/' + f for f in listdir(data_dir+'train/unsup/') if isfile(join(data_dir+'train/unsup/', f))]"
   ]
  },
  {
   "cell_type": "markdown",
   "metadata": {},
   "source": [
    "## Preprocessing"
   ]
  },
  {
   "cell_type": "code",
   "execution_count": 128,
   "metadata": {},
   "outputs": [],
   "source": [
    "#cleaning the reviews\n",
    "allowed_symbols = set(l for l in ascii_lowercase)\n",
    "\n",
    "def preprocess_sentence(sentence):\n",
    "    output_sentence = []\n",
    "    for word in sentence.split(\" \"):\n",
    "        word = word.lower()\n",
    "        clean_word = \"\"\n",
    "        for char in word: # Remove characters that are not allowed\n",
    "            if char in allowed_symbols:\n",
    "                clean_word += char\n",
    "        if len(clean_word) <= 1: # Discard 1 letter words ## check later\n",
    "            continue\n",
    "        output_sentence.append(clean_word)\n",
    "    return \" \".join(output_sentence)"
   ]
  },
  {
   "cell_type": "markdown",
   "metadata": {},
   "source": [
    "### Creating dataframes from text files"
   ]
  },
  {
   "cell_type": "code",
   "execution_count": 129,
   "metadata": {},
   "outputs": [
    {
     "name": "stdout",
     "output_type": "stream",
     "text": [
      "Positive files finished\n",
      "Negative files finished\n",
      "Unsupervised files finished\n"
     ]
    }
   ],
   "source": [
    "lines=[]\n",
    "for pf in positiveFiles:\n",
    "    with open(pf, \"r\", encoding='utf-8') as f:\n",
    "        line=f.readline()\n",
    "        line = preprocess_sentence(line)\n",
    "        lines.append(line)\n",
    "df_pos = pd.DataFrame(lines, columns = [\"text\"])\n",
    "df_pos['labels'] = 1\n",
    "\n",
    "print('Positive files finished')\n",
    "\n",
    "lines=[]\n",
    "for nf in negativeFiles:\n",
    "    with open(nf, \"r\", encoding='utf-8') as f:\n",
    "        line=f.readline()\n",
    "        line = preprocess_sentence(line)\n",
    "        lines.append(line)\n",
    "df_neg = pd.DataFrame(lines, columns = [\"text\"])\n",
    "df_neg['labels'] = 0\n",
    "\n",
    "print('Negative files finished')\n",
    "\n",
    "lines=[]\n",
    "for usf in negativeFiles:\n",
    "    with open(usf, \"r\", encoding='utf-8') as f:\n",
    "        line=f.readline()\n",
    "        lines.append(line)\n",
    "df_unsup = pd.DataFrame(lines, columns = [\"text\"])\n",
    "print('Unsupervised files finished') "
   ]
  },
  {
   "cell_type": "code",
   "execution_count": 130,
   "metadata": {},
   "outputs": [],
   "source": [
    "#concatenate both positive and negative reviews\n",
    "df = pd.concat([df_neg,df_pos])"
   ]
  },
  {
   "cell_type": "code",
   "execution_count": 131,
   "metadata": {},
   "outputs": [],
   "source": [
    "text_as_list = df['text'].tolist()\n",
    "labels_as_list = df['labels'].tolist()"
   ]
  },
  {
   "cell_type": "markdown",
   "metadata": {},
   "source": [
    "### Encoding texts to indexes"
   ]
  },
  {
   "cell_type": "code",
   "execution_count": 132,
   "metadata": {},
   "outputs": [
    {
     "data": {
      "application/vnd.jupyter.widget-view+json": {
       "model_id": "979903b01ec945dc9477d35b18503052",
       "version_major": 2,
       "version_minor": 0
      },
      "text/plain": [
       "  0%|          | 0/37500 [00:00<?, ?it/s]"
      ]
     },
     "metadata": {},
     "output_type": "display_data"
    },
    {
     "name": "stderr",
     "output_type": "stream",
     "text": [
      "Token indices sequence length is longer than the specified maximum sequence length for this model (878 > 512). Running this sequence through the model will result in indexing errors\n"
     ]
    },
    {
     "data": {
      "application/vnd.jupyter.widget-view+json": {
       "model_id": "7cbee06f95b446f0a45f82dfed9c55a3",
       "version_major": 2,
       "version_minor": 0
      },
      "text/plain": [
       "  0%|          | 0/37500 [00:00<?, ?it/s]"
      ]
     },
     "metadata": {},
     "output_type": "display_data"
    }
   ],
   "source": [
    "from transformers import Trainer, TrainingArguments, AutoConfig, AutoTokenizer, AutoModelForSequenceClassification\n",
    "\n",
    "encoder = AutoTokenizer.from_pretrained('distilbert-base-uncased')\n",
    "encoded_texts = []\n",
    "for i in tqdm(range(len(text_as_list))):\n",
    "    encoded_texts.append(encoder.encode(text_as_list[i]))\n",
    "lengths = [len(i) for i in tqdm(encoded_texts)]"
   ]
  },
  {
   "cell_type": "markdown",
   "metadata": {},
   "source": [
    "### Dropping texts that are too long"
   ]
  },
  {
   "cell_type": "code",
   "execution_count": 133,
   "metadata": {
    "scrolled": true
   },
   "outputs": [
    {
     "name": "stderr",
     "output_type": "stream",
     "text": [
      "/Applications/anaconda3/lib/python3.8/site-packages/seaborn/distributions.py:2551: FutureWarning: `distplot` is a deprecated function and will be removed in a future version. Please adapt your code to use either `displot` (a figure-level function with similar flexibility) or `histplot` (an axes-level function for histograms).\n",
      "  warnings.warn(msg, FutureWarning)\n"
     ]
    },
    {
     "data": {
      "text/plain": [
       "<AxesSubplot:title={'center':'Probability Density Function for text lengths'}, ylabel='Density'>"
      ]
     },
     "execution_count": 133,
     "metadata": {},
     "output_type": "execute_result"
    },
    {
     "data": {
      "image/png": "[encoded data removed]",
      "text/plain": [
       "<Figure size 432x288 with 1 Axes>"
      ]
     },
     "metadata": {
      "needs_background": "light"
     },
     "output_type": "display_data"
    }
   ],
   "source": [
    "length_as_series = pd.Series(lengths)\n",
    "plt.title(\"Probability Density Function for text lengths\")\n",
    "sns.distplot(length_as_series)"
   ]
  },
  {
   "cell_type": "code",
   "execution_count": 134,
   "metadata": {},
   "outputs": [
    {
     "data": {
      "application/vnd.jupyter.widget-view+json": {
       "model_id": "b25eb6a73f904fd89c65b5c9799f9f98",
       "version_major": 2,
       "version_minor": 0
      },
      "text/plain": [
       "  0%|          | 0/37500 [00:00<?, ?it/s]"
      ]
     },
     "metadata": {},
     "output_type": "display_data"
    }
   ],
   "source": [
    "max_pad_length = length_as_series.quantile(0.9)\n",
    "\n",
    "#in order to decrease the runtime of the model training\n",
    "max_pad_length = 70\n",
    "\n",
    "reviews = []\n",
    "labels = []\n",
    "\n",
    "for i in tqdm(range(len(encoded_texts))):\n",
    "    if len(encoded_texts[i]) < max_pad_length:\n",
    "        reviews.append(encoded_texts[i])\n",
    "        labels.append(labels_as_list[i])\n",
    "        \n",
    "assert len(reviews) == len(labels), \"The labels and feature lists should have the same time\""
   ]
  },
  {
   "cell_type": "markdown",
   "metadata": {},
   "source": [
    "### Padding tensors"
   ]
  },
  {
   "cell_type": "code",
   "execution_count": 135,
   "metadata": {},
   "outputs": [],
   "source": [
    "def pad_tensor(review, seq_length):\n",
    "    ''' Return features of review_ints, where each review is padded with 0's or truncated to the input seq_length.\n",
    "    '''\n",
    "    features = np.zeros((len(review), seq_length), dtype = int)\n",
    "    \n",
    "    review_len = len(review)\n",
    "\n",
    "    if review_len <= seq_length:\n",
    "        zeroes = list(np.zeros(seq_length-review_len))\n",
    "        new = review+zeroes\n",
    "\n",
    "    return torch.tensor(new)"
   ]
  },
  {
   "cell_type": "code",
   "execution_count": 136,
   "metadata": {},
   "outputs": [
    {
     "data": {
      "application/vnd.jupyter.widget-view+json": {
       "model_id": "f49129db5d824282913e180fd43c6be5",
       "version_major": 2,
       "version_minor": 0
      },
      "text/plain": [
       "  0%|          | 0/2042 [00:00<?, ?it/s]"
      ]
     },
     "metadata": {},
     "output_type": "display_data"
    }
   ],
   "source": [
    "padded_dataset = []\n",
    "for i in tqdm(range(len(reviews))):\n",
    "    padded_dataset.append(pad_tensor(reviews[i], int(max_pad_length)))"
   ]
  },
  {
   "cell_type": "markdown",
   "metadata": {},
   "source": [
    "### transforming lists to tensors and splitting dataset"
   ]
  },
  {
   "cell_type": "code",
   "execution_count": 137,
   "metadata": {},
   "outputs": [],
   "source": [
    "#preparing the final dataset:\n",
    "X = torch.stack(padded_dataset)\n",
    "y = torch.tensor(labels)"
   ]
  },
  {
   "cell_type": "code",
   "execution_count": 138,
   "metadata": {},
   "outputs": [
    {
     "data": {
      "text/plain": [
       "tensor(0.5642)"
      ]
     },
     "execution_count": 138,
     "metadata": {},
     "output_type": "execute_result"
    }
   ],
   "source": [
    "(y==1).float().mean()"
   ]
  },
  {
   "cell_type": "code",
   "execution_count": 139,
   "metadata": {},
   "outputs": [
    {
     "name": "stderr",
     "output_type": "stream",
     "text": [
      "<ipython-input-139-6c777cb0064f>:6: UserWarning: To copy construct from a tensor, it is recommended to use sourceTensor.clone().detach() or sourceTensor.clone().detach().requires_grad_(True), rather than torch.tensor(sourceTensor).\n",
      "  X_train, y_train = torch.tensor(X_train), torch.tensor(y_train)\n",
      "<ipython-input-139-6c777cb0064f>:7: UserWarning: To copy construct from a tensor, it is recommended to use sourceTensor.clone().detach() or sourceTensor.clone().detach().requires_grad_(True), rather than torch.tensor(sourceTensor).\n",
      "  X_test, y_test = torch.tensor(X_test), torch.tensor(y_test)\n"
     ]
    }
   ],
   "source": [
    "X_train, X_test, y_train, y_test = train_test_split(X,\n",
    "                                                    y,\n",
    "                                                    test_size=input_test_size,\n",
    "                                                    random_state=42)\n",
    "\n",
    "X_train, y_train = torch.tensor(X_train), torch.tensor(y_train)\n",
    "X_test, y_test = torch.tensor(X_test), torch.tensor(y_test)"
   ]
  },
  {
   "cell_type": "markdown",
   "metadata": {},
   "source": [
    "### Creating network and dataset\n"
   ]
  },
  {
   "cell_type": "code",
   "execution_count": 140,
   "metadata": {},
   "outputs": [],
   "source": [
    "import math\n",
    "class NaiveCustomLSTM(nn.Module):\n",
    "    def __init__(self, input_sz: int, hidden_sz: int):\n",
    "        super().__init__()\n",
    "        self.input_size = input_sz\n",
    "        self.hidden_size = hidden_sz\n",
    "        \n",
    "        #i_t\n",
    "        self.W_i = nn.Parameter(torch.Tensor(input_sz, hidden_sz))\n",
    "        self.U_i = nn.Parameter(torch.Tensor(hidden_sz, hidden_sz))\n",
    "        self.b_i = nn.Parameter(torch.Tensor(hidden_sz))\n",
    "        \n",
    "        #f_t\n",
    "        self.W_f = nn.Parameter(torch.Tensor(input_sz, hidden_sz))\n",
    "        self.U_f = nn.Parameter(torch.Tensor(hidden_sz, hidden_sz))\n",
    "        self.b_f = nn.Parameter(torch.Tensor(hidden_sz))\n",
    "        \n",
    "        #c_t\n",
    "        self.W_c = nn.Parameter(torch.Tensor(input_sz, hidden_sz))\n",
    "        self.U_c = nn.Parameter(torch.Tensor(hidden_sz, hidden_sz))\n",
    "        self.b_c = nn.Parameter(torch.Tensor(hidden_sz))\n",
    "        \n",
    "        #o_t\n",
    "        self.W_o = nn.Parameter(torch.Tensor(input_sz, hidden_sz))\n",
    "        self.U_o = nn.Parameter(torch.Tensor(hidden_sz, hidden_sz))\n",
    "        self.b_o = nn.Parameter(torch.Tensor(hidden_sz))\n",
    "        \n",
    "        self.init_weights()\n",
    "    \n",
    "    def init_weights(self):\n",
    "        stdv = 1.0 / math.sqrt(self.hidden_size)\n",
    "        for weight in self.parameters():\n",
    "            weight.data.uniform_(-stdv, stdv)\n",
    "    \n",
    "    def forward(self,\n",
    "                x,\n",
    "                init_states=None):\n",
    "        \n",
    "        \"\"\"\n",
    "        assumes x.shape represents (batch_size, sequence_size, input_size)\n",
    "        \"\"\"\n",
    "        bs, seq_sz, _ = x.size()\n",
    "        hidden_seq = []\n",
    "        \n",
    "        if init_states is None:\n",
    "            h_t, c_t = (\n",
    "                torch.zeros(bs, self.hidden_size).to(x.device),\n",
    "                torch.zeros(bs, self.hidden_size).to(x.device),\n",
    "            )\n",
    "        else:\n",
    "            h_t, c_t = init_states\n",
    "            \n",
    "        for t in range(seq_sz):\n",
    "            x_t = x[:, t, :]\n",
    "            \n",
    "            i_t = torch.sigmoid(x_t @ self.W_i + h_t @ self.U_i + self.b_i)\n",
    "            f_t = torch.sigmoid(x_t @ self.W_f + h_t @ self.U_f + self.b_f)\n",
    "            g_t = torch.tanh(x_t @ self.W_c + h_t @ self.U_c + self.b_c)\n",
    "            o_t = torch.sigmoid(x_t @ self.W_o + h_t @ self.U_o + self.b_o)\n",
    "            c_t = f_t * c_t + i_t * g_t\n",
    "            h_t = o_t * torch.tanh(c_t)\n",
    "            \n",
    "            hidden_seq.append(h_t.unsqueeze(0))\n",
    "        \n",
    "        #reshape hidden_seq p/ retornar\n",
    "        hidden_seq = torch.cat(hidden_seq, dim=0)\n",
    "        hidden_seq = hidden_seq.transpose(0, 1).contiguous()\n",
    "        return hidden_seq, (h_t, c_t)"
   ]
  },
  {
   "cell_type": "markdown",
   "metadata": {},
   "source": [
    "### Creating network class"
   ]
  },
  {
   "cell_type": "code",
   "execution_count": 141,
   "metadata": {},
   "outputs": [],
   "source": [
    "class Net(nn.Module):\n",
    "    def __init__(self):\n",
    "        super().__init__()\n",
    "        self.embedding = nn.Embedding(len(encoder.vocab)+1, embedding_dim)\n",
    "        self.lstm = NaiveCustomLSTM(embedding_dim,hidden_dim)\n",
    "        self.fc1 = nn.Linear(hidden_dim, 2)\n",
    "        \n",
    "    def forward(self, x):\n",
    "        x_ = self.embedding(x)\n",
    "        x_, (h_n, c_n) = self.lstm(x_)\n",
    "        x_ = (x_[:, -1, :])\n",
    "        x_ = self.fc1(x_)\n",
    "        return x_"
   ]
  },
  {
   "cell_type": "markdown",
   "metadata": {},
   "source": [
    "### Creating training objects"
   ]
  },
  {
   "cell_type": "code",
   "execution_count": 142,
   "metadata": {},
   "outputs": [],
   "source": [
    "ds_train = torch.utils.data.TensorDataset(X_train, y_train)\n",
    "train_loader = torch.utils.data.DataLoader(ds_train, batch_size=train_batch_size, shuffle=True)\n",
    "\n",
    "ds_test = torch.utils.data.TensorDataset(X_test, y_test)\n",
    "test_loader = torch.utils.data.DataLoader(ds_test, batch_size=test_batch_size, shuffle=True)"
   ]
  },
  {
   "cell_type": "code",
   "execution_count": 143,
   "metadata": {},
   "outputs": [],
   "source": [
    "device = torch.device('cpu')\n",
    "classifier = Net().to(device)\n",
    "optimizer = optim.Adam(classifier.parameters(), lr=learning_rate)\n",
    "criterion = nn.CrossEntropyLoss()"
   ]
  },
  {
   "cell_type": "markdown",
   "metadata": {},
   "source": [
    "# Training"
   ]
  },
  {
   "cell_type": "code",
   "execution_count": 144,
   "metadata": {},
   "outputs": [
    {
     "data": {
      "application/vnd.jupyter.widget-view+json": {
       "model_id": "8bd6a379477148eab52aa58e84c1ade1",
       "version_major": 2,
       "version_minor": 0
      },
      "text/plain": [
       "Training:   0%|          | 0/2 [00:00<?, ?it/s]"
      ]
     },
     "metadata": {},
     "output_type": "display_data"
    },
    {
     "data": {
      "application/vnd.jupyter.widget-view+json": {
       "model_id": "1c2237305bf34cdba70901e99a61cea5",
       "version_major": 2,
       "version_minor": 0
      },
      "text/plain": [
       "Epoch: 0:   0%|          | 0/12 [00:00<?, ?it/s]"
      ]
     },
     "metadata": {},
     "output_type": "display_data"
    },
    {
     "data": {
      "application/vnd.jupyter.widget-view+json": {
       "model_id": "7ffee3f46db44979b66ab16ef1c341fd",
       "version_major": 2,
       "version_minor": 0
      },
      "text/plain": [
       "Epoch: 1:   0%|          | 0/12 [00:00<?, ?it/s]"
      ]
     },
     "metadata": {},
     "output_type": "display_data"
    },
    {
     "data": {
      "application/vnd.jupyter.widget-view+json": {
       "model_id": "bac76fe0e4614db891ac6d904be4771c",
       "version_major": 2,
       "version_minor": 0
      },
      "text/plain": [
       "Epoch: 2:   0%|          | 0/12 [00:00<?, ?it/s]"
      ]
     },
     "metadata": {},
     "output_type": "display_data"
    },
    {
     "data": {
      "application/vnd.jupyter.widget-view+json": {
       "model_id": "58a948cc741d4db3a6eeb8da2d03389a",
       "version_major": 2,
       "version_minor": 0
      },
      "text/plain": [
       "Epoch: 3:   0%|          | 0/12 [00:00<?, ?it/s]"
      ]
     },
     "metadata": {},
     "output_type": "display_data"
    },
    {
     "data": {
      "application/vnd.jupyter.widget-view+json": {
       "model_id": "f9cf607b69ea416bb9a7d832d2d7eb86",
       "version_major": 2,
       "version_minor": 0
      },
      "text/plain": [
       "Epoch: 4:   0%|          | 0/12 [00:00<?, ?it/s]"
      ]
     },
     "metadata": {},
     "output_type": "display_data"
    },
    {
     "data": {
      "application/vnd.jupyter.widget-view+json": {
       "model_id": "6d900efd313e432dbd032775df441f80",
       "version_major": 2,
       "version_minor": 0
      },
      "text/plain": [
       "Epoch: 5:   0%|          | 0/12 [00:00<?, ?it/s]"
      ]
     },
     "metadata": {},
     "output_type": "display_data"
    }
   ],
   "source": [
    "epoch_bar = tqdm(range(num_of_epochs),\n",
    "                 desc=\"Training\",\n",
    "                 position=0,\n",
    "                 total=2)\n",
    "\n",
    "acc = 0\n",
    "\n",
    "for epoch in epoch_bar:\n",
    "    batch_bar = tqdm(enumerate(train_loader),\n",
    "                     desc=\"Epoch: {}\".format(str(epoch)),\n",
    "                     position=1,\n",
    "                     total=len(train_loader))\n",
    "    \n",
    "    for i, (datapoints, labels) in batch_bar:\n",
    "        \n",
    "        optimizer.zero_grad()\n",
    "        \n",
    "        preds = classifier(datapoints.long().to(device))\n",
    "        loss = criterion(preds, labels.to(device))\n",
    "        loss.backward()\n",
    "        optimizer.step()\n",
    "        acc = (preds.argmax(dim=1) == labels).float().mean().cpu().item()\n",
    "        \n",
    "        if (i + 1) % 50 == 0:\n",
    "            acc = 0\n",
    "            \n",
    "            with torch.no_grad():\n",
    "                for  i, (datapoints_, labels_) in enumerate(test_loader):\n",
    "                    preds = classifier(datapoints_.to(device))\n",
    "                    acc += (preds.argmax(dim=1) == labels_.to(device)).float().sum().cpu().item()\n",
    "            acc /= len(X_test)\n",
    "\n",
    "        batch_bar.set_postfix(loss=loss.cpu().item(),\n",
    "                              accuracy=\"{:.2f}\".format(acc),\n",
    "                              epoch=epoch)\n",
    "        batch_bar.update()\n",
    "\n",
    "        \n",
    "    epoch_bar.set_postfix(loss=loss.cpu().item(),\n",
    "                          accuracy=\"{:.2f}\".format(acc),\n",
    "                          epoch=epoch)\n",
    "    epoch_bar.update()"
   ]
  }
 ],
 "metadata": {
  "kernelspec": {
   "display_name": "Python 3",
   "language": "python",
   "name": "python3"
  },
  "language_info": {
   "codemirror_mode": {
    "name": "ipython",
    "version": 3
   },
   "file_extension": ".py",
   "mimetype": "text/x-python",
   "name": "python",
   "nbconvert_exporter": "python",
   "pygments_lexer": "ipython3",
   "version": "3.8.5"
  }
 },
 "nbformat": 4,
 "nbformat_minor": 4
}
